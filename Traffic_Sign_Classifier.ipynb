{
 "cells": [
  {
   "cell_type": "markdown",
   "metadata": {},
   "source": [
    "# Self-Driving Car Engineer Nanodegree\n",
    "\n",
    "## Deep Learning\n",
    "\n",
    "## Project: Build a Traffic Sign Recognition Classifier\n",
    "\n",
    "In this notebook, a template is provided for you to implement your functionality in stages, which is required to successfully complete this project. If additional code is required that cannot be included in the notebook, be sure that the Python code is successfully imported and included in your submission if necessary. \n",
    "\n",
    "> **Note**: Once you have completed all of the code implementations, you need to finalize your work by exporting the iPython Notebook as an HTML document. Before exporting the notebook to html, all of the code cells need to have been run so that reviewers can see the final implementation and output. You can then export the notebook by using the menu above and navigating to  \\n\",\n",
    "    \"**File -> Download as -> HTML (.html)**. Include the finished document along with this notebook as your submission. \n",
    "\n",
    "In addition to implementing code, there is a writeup to complete. The writeup should be completed in a separate file, which can be either a markdown file or a pdf document. There is a [write up template](https://github.com/udacity/CarND-Traffic-Sign-Classifier-Project/blob/master/writeup_template.md) that can be used to guide the writing process. Completing the code template and writeup template will cover all of the [rubric points](https://review.udacity.com/#!/rubrics/481/view) for this project.\n",
    "\n",
    "The [rubric](https://review.udacity.com/#!/rubrics/481/view) contains \"Stand Out Suggestions\" for enhancing the project beyond the minimum requirements. The stand out suggestions are optional. If you decide to pursue the \"stand out suggestions\", you can include the code in this Ipython notebook and also discuss the results in the writeup file.\n",
    "\n",
    "\n",
    ">**Note:** Code and Markdown cells can be executed using the **Shift + Enter** keyboard shortcut. In addition, Markdown cells can be edited by typically double-clicking the cell to enter edit mode."
   ]
  },
  {
   "cell_type": "markdown",
   "metadata": {},
   "source": [
    "---\n",
    "## Step 0: Load The Data"
   ]
  },
  {
   "cell_type": "code",
   "execution_count": null,
   "metadata": {
    "collapsed": false
   },
   "outputs": [],
   "source": [
    "# Load pickled data\n",
    "import pickle\n",
    "\n",
    "# TODO: Fill this in based on where you saved the training and testing data\n",
    "\n",
    "training_file = 'train.p'\n",
    "validation_file= 'valid.p'\n",
    "testing_file = 'test.p'\n",
    "\n",
    "with open(training_file, mode='rb') as f:\n",
    "    train = pickle.load(f)\n",
    "with open(validation_file, mode='rb') as f:\n",
    "    valid = pickle.load(f)\n",
    "with open(testing_file, mode='rb') as f:\n",
    "    test = pickle.load(f)\n",
    "    \n",
    "X_train, y_train = train['features'], train['labels']\n",
    "X_valid, y_valid = valid['features'], valid['labels']\n",
    "X_test, y_test = test['features'], test['labels']\n",
    "\n",
    "print(type( y_test))\n",
    "\n",
    "# print(train['features'])\n",
    "print(train['labels'][1])\n",
    "print(y_valid.shape)\n",
    "\n",
    "print( y_test.shape)\n",
    "assert(len(X_train) == len(y_train))\n",
    "assert(len(X_valid) == len(y_valid))\n",
    "assert(len(X_test) == len(y_test))"
   ]
  },
  {
   "cell_type": "code",
   "execution_count": null,
   "metadata": {
    "collapsed": false
   },
   "outputs": [],
   "source": [
    "# Import class files\n",
    "import pandas as pd\n",
    "df_signnames = pd.read_csv('signnames.csv')"
   ]
  },
  {
   "cell_type": "markdown",
   "metadata": {},
   "source": [
    "---\n",
    "\n",
    "## Step 1: Dataset Summary & Exploration\n",
    "\n",
    "The pickled data is a dictionary with 4 key/value pairs:\n",
    "\n",
    "- `'features'` is a 4D array containing raw pixel data of the traffic sign images, (num examples, width, height, channels).\n",
    "- `'labels'` is a 1D array containing the label/class id of the traffic sign. The file `signnames.csv` contains id -> name mappings for each id.\n",
    "- `'sizes'` is a list containing tuples, (width, height) representing the the original width and height the image.\n",
    "- `'coords'` is a list containing tuples, (x1, y1, x2, y2) representing coordinates of a bounding box around the sign in the image. **THESE COORDINATES ASSUME THE ORIGINAL IMAGE. THE PICKLED DATA CONTAINS RESIZED VERSIONS (32 by 32) OF THESE IMAGES**\n",
    "\n",
    "Complete the basic data summary below. Use python, numpy and/or pandas methods to calculate the data summary rather than hard coding the results. For example, the [pandas shape method](http://pandas.pydata.org/pandas-docs/stable/generated/pandas.DataFrame.shape.html) might be useful for calculating some of the summary results. "
   ]
  },
  {
   "cell_type": "markdown",
   "metadata": {},
   "source": [
    "### Provide a Basic Summary of the Data Set Using Python, Numpy and/or Pandas"
   ]
  },
  {
   "cell_type": "code",
   "execution_count": null,
   "metadata": {
    "collapsed": false
   },
   "outputs": [],
   "source": [
    "### Replace each question mark with the appropriate value. \n",
    "### Use python, pandas or numpy methods rather than hard coding the results\n",
    "\n",
    "# TODO: Number of training examples\n",
    "n_train = X_train.shape[0]\n",
    "\n",
    "# TODO: Number of testing examples.\n",
    "n_test = X_test.shape[0]\n",
    "\n",
    "# TODO: What's the shape of an traffic sign image?\n",
    "image_shape = [X_train.shape[1], X_train.shape[2]]\n",
    "\n",
    "# TODO: How many unique classes/labels there are in the dataset.\n",
    "\n",
    "n_classes = df_signnames.shape[0]\n",
    "\n",
    "print(\"Number of training examples =\", n_train)\n",
    "print(\"Number of testing examples =\", n_test)\n",
    "print(\"Image data shape =\", image_shape)\n",
    "print(\"Number of classes =\", n_classes)"
   ]
  },
  {
   "cell_type": "markdown",
   "metadata": {},
   "source": [
    "### Include an exploratory visualization of the dataset"
   ]
  },
  {
   "cell_type": "markdown",
   "metadata": {},
   "source": [
    "Visualize the German Traffic Signs Dataset using the pickled file(s). This is open ended, suggestions include: plotting traffic sign images, plotting the count of each sign, etc.\n",
    "\n",
    "The [Matplotlib](http://matplotlib.org/) [examples](http://matplotlib.org/examples/index.html) and [gallery](http://matplotlib.org/gallery.html) pages are a great resource for doing visualizations in Python.\n",
    "\n",
    "**NOTE:** It's recommended you start with something simple first. If you wish to do more, come back to it after you've completed the rest of the sections."
   ]
  },
  {
   "cell_type": "code",
   "execution_count": null,
   "metadata": {
    "collapsed": false,
    "scrolled": true
   },
   "outputs": [],
   "source": [
    "### Data exploration visualization code goes here.\n",
    "### Feel free to use as many code cells as needed.\n",
    "import matplotlib.pyplot as plt\n",
    "# Visualizations will be shown in the notebook.\n",
    "%matplotlib inline\n",
    "\n",
    "from mpl_toolkits.mplot3d import Axes3D\n",
    "from matplotlib import cm\n",
    "from matplotlib.ticker import LinearLocator, FormatStrFormatter\n",
    "\n",
    "import numpy as np\n",
    "import random\n",
    "\n",
    "index = random.randint(0, len(X_train))\n",
    "\n",
    "fig = plt.figure()\n",
    "# ax = fig.gca(projection='3d')\n",
    "# ax = fig.add_subplot(131, projection='3d')\n",
    "\n",
    "# plt_axis_X = np.arange(0, image_shape[0] - 1, 0.25)\n",
    "# plt_axis_Y = np.arange(0, image_shape[1] - 1, 0.25)\n",
    "\n",
    "# plt_axis_X, plt_axis_Y = np.meshgrid(plt_axis_X, plt_axis_Y)\n",
    "\n",
    "# Very first picture in test set\n",
    "# test_image = X_train[index, :, :, :]\n",
    "test_image = X_train[index].squeeze()\n",
    "# # TODO: What's the more efficient/more pythonic way to do that?\n",
    "# for i in range(3):\n",
    "#     for x in range(32):\n",
    "#         for y in range(32):\n",
    "#             ax.scatter(x, y, test_image[x, y, i] + (i * 256), zdir='z', c='red' if i == 0 else 'green' if i == 1 else 'blue')\n",
    "            \n",
    "# plt.imshow(test_image[:, :, 2])\n",
    "fig.add_subplot(221).set_title('Original Image')\n",
    "plt.imshow(test_image)\n",
    "fig.add_subplot(222).set_title(\"Single Channel of Image\")\n",
    "# TODO: need to update the imshow parameter to show correct image channel color mapping\n",
    "plt.imshow(test_image[:, :, 2])\n",
    "# test_image[:, :, 0]\n",
    "# test_image[:, :, 2]\n",
    "# TODO: Resolve title overlapping\n",
    "\n",
    "fig.add_subplot(223).set_title(\"Hist of Single Channel\")\n",
    "some = plt.hist(test_image[:, :, 0].flatten(), 256, fc='k', ec='k')\n",
    "\n",
    "# Counting example labels \n",
    "\n",
    "\n",
    "print(df_signnames.loc[y_train[index]].SignName)\n",
    "\n"
   ]
  },
  {
   "cell_type": "markdown",
   "metadata": {},
   "source": [
    "----\n",
    "\n",
    "## Step 2: Design and Test a Model Architecture\n",
    "\n",
    "Design and implement a deep learning model that learns to recognize traffic signs. Train and test your model on the [German Traffic Sign Dataset](http://benchmark.ini.rub.de/?section=gtsrb&subsection=dataset).\n",
    "\n",
    "There are various aspects to consider when thinking about this problem:\n",
    "\n",
    "- Neural network architecture\n",
    "- Play around preprocessing techniques (normalization, rgb to grayscale, etc)\n",
    "- Number of examples per label (some have more than others).\n",
    "- Generate fake data.\n",
    "\n",
    "Here is an example of a [published baseline model on this problem](http://yann.lecun.com/exdb/publis/pdf/sermanet-ijcnn-11.pdf). It's not required to be familiar with the approach used in the paper but, it's good practice to try to read papers like these.\n",
    "\n",
    "**NOTE:** The LeNet-5 implementation shown in the [classroom](https://classroom.udacity.com/nanodegrees/nd013/parts/fbf77062-5703-404e-b60c-95b78b2f3f9e/modules/6df7ae49-c61c-4bb2-a23e-6527e69209ec/lessons/601ae704-1035-4287-8b11-e2c2716217ad/concepts/d4aca031-508f-4e0b-b493-e7b706120f81) at the end of the CNN lesson is a solid starting point. You'll have to change the number of classes and possibly the preprocessing, but aside from that it's plug and play!"
   ]
  },
  {
   "cell_type": "markdown",
   "metadata": {},
   "source": [
    "### Pre-process the Data Set (normalization, grayscale, etc.)"
   ]
  },
  {
   "cell_type": "markdown",
   "metadata": {},
   "source": [
    "Use the code cell (or multiple code cells, if necessary) to implement the first step of your project."
   ]
  },
  {
   "cell_type": "code",
   "execution_count": null,
   "metadata": {
    "collapsed": true
   },
   "outputs": [],
   "source": [
    "### Preprocess the data here. Preprocessing steps could include normalization, converting to grayscale, etc.\n",
    "### Feel free to use as many code cells as needed."
   ]
  },
  {
   "cell_type": "code",
   "execution_count": null,
   "metadata": {
    "collapsed": false
   },
   "outputs": [],
   "source": [
    "def counting_by_labels(labels):\n",
    "    count = np.zeros(shape=(n_classes), dtype=np.uint8)\n",
    "    for i in range(0, len(labels)):\n",
    "        count[labels[i]]+=1\n",
    "    return count\n",
    "\n",
    "# Counting data \n",
    "# count = np.ndarray(shape=(n_classes, 1), dtype=np.uint8)\n",
    "y_dict_count = counting_by_labels(y_train)\n",
    "\n",
    "# Visualize data labels\n",
    "plt.figure()\n",
    "\n",
    "x = np.arange(0, n_classes)\n",
    "y = y_dict_count\n",
    "# y = np.sin(x)\n",
    "plt.bar(x, y)\n",
    "plt.title(\"Count of Each Sign\")\n",
    "\n",
    "# Sort a python dictionary by value\n",
    "# http://stackoverflow.com/questions/613183/sort-a-python-dictionary-by-value\n",
    "import operator\n",
    "x_dict = dict(enumerate(y_dict_count.tolist()))\n",
    "sorted_x = sorted(x_dict.items(), key=operator.itemgetter(1))\n",
    "\n",
    "sorted_x = np.asarray(sorted_x)\n",
    "fig3 = plt.figure()\n",
    "# plt.plot(res[:, 1], res[:, 0], 'ro')\n",
    "x = np.arange(0, len(sorted_x[:, 0]))\n",
    "plt.xticks(x, sorted_x[:, 0])\n",
    "plt.plot(x, sorted_x[:, 1], 'ro')\n",
    "plt.title(\"Number of examples by label in ascending order\")\n",
    "\n"
   ]
  },
  {
   "cell_type": "code",
   "execution_count": null,
   "metadata": {
    "collapsed": false
   },
   "outputs": [],
   "source": [
    "# Category data_id by labels\n",
    "from collections import defaultdict\n",
    "ids_by_labels = defaultdict(list)\n",
    "\n",
    "# defaultdict（<type 'list'>, {labels: ['id_0', 'id_1', ...]}）\n",
    "id_by_labels = defaultdict(list)\n",
    "for count, elem in enumerate(y_train):\n",
    "    id_by_labels[elem].append(count)\n",
    "\n",
    "# Plot pictures in array\n",
    "plt.figure()\n",
    "fig4, axs = plt.subplots(6,8, figsize=(23, 15), facecolor='w', edgecolor='k')\n",
    "fig4.subplots_adjust(hspace = .5, wspace=.001)\n",
    "axs = axs.ravel()\n",
    "\n",
    "\n",
    "for i in range(len(id_by_labels)):\n",
    "    idx = id_by_labels[i][0]\n",
    "    axs[i].set_title(str(i) + \" \" + df_signnames.loc[y_train[idx]].SignName + \"(\" + str(len(id_by_labels[i])) + \")\")\n",
    "    axs[i].imshow(np.asarray(X_train[idx], dtype=np.uint8))\n",
    "\n",
    "X_train_sorted = X_train\n",
    "y_train_sorted = y_train\n",
    "\n",
    "def get_list_from_id_by_labels(num_of_labels):\n",
    "    range_list = []\n",
    "    for i in range(num_of_labels):\n",
    "        for j in range(len(id_by_labels[i])):\n",
    "            range_list.append(id_by_labels[i][j])\n",
    "    return range_list"
   ]
  },
  {
   "cell_type": "markdown",
   "metadata": {
    "collapsed": false
   },
   "source": []
  },
  {
   "cell_type": "code",
   "execution_count": null,
   "metadata": {
    "collapsed": false
   },
   "outputs": [],
   "source": [
    "import cv2\n",
    "def rotate_by_deg(img_in, deg):\n",
    "    rows, cols, depth = img_in.shape\n",
    "    M = cv2.getRotationMatrix2D((cols/2, rows/2), deg, 1)\n",
    "    return cv2.warpAffine(test_image, M, (cols, rows))\n",
    "\n",
    "# augment_by_rotation(X_train)\n",
    "fig2 = plt.figure()\n",
    "fig2.add_subplot(221).set_title('Original Image')\n",
    "plt.imshow(test_image)\n",
    "fig2.add_subplot(222).set_title(\"Image after 90 degree rotation\")\n",
    "plt.imshow(rotate_by_deg(test_image, 90))\n",
    "fig2.add_subplot(223).set_title(\"Image after 270 degree rotation\")\n",
    "plt.imshow(rotate_by_deg(test_image, 270))\n",
    "\n",
    "# print(rotate_by_deg(test_image, 270).shape)\n",
    "\n",
    "# Generate augmentated data\n",
    "def augment_by_rotation(data, deg, data_range):\n",
    "#     aug_data = np.ndarray(shape=(len(data_range), image.shape[0], image.shape[1], 3))\n",
    "    aug_data = np.ndarray(shape=(len(data_range), data.shape[1], data.shape[2], 3))\n",
    "#     for i in range(len(data)):\n",
    "    j = 0\n",
    "    for i in data_range:\n",
    "        aug_data[j, :, :, :] = rotate_by_deg(data[i, :, :, :], deg)\n",
    "        j+=1\n",
    "    return aug_data\n",
    "\n",
    "\n",
    "def augment_labels_by_ids(y_label, data_range):\n",
    "    aug_data = np.ndarray(shape=(len(data_range)))\n",
    "    j = 0\n",
    "    for i in data_range:\n",
    "        aug_data[j] = y_label[i]\n",
    "        j+=1\n",
    "    return aug_data\n",
    "#---------------------------------------------------------------------------------------\n",
    "# Data augmentation\n",
    "#---------------------------------------------------------------------------------------\n",
    "AUGMENT = 1\n",
    "if AUGMENT:\n",
    "# Only augment data for samples less than certain number\n",
    "# Eg. 15 out of 43\n",
    "    num_of_labels = 5\n",
    "# If number of examples is less than num_of_labels then augment the data set\n",
    "# Pick up first num_of_labels sorted_x[:, 0] (ascending order)\n",
    "# X_train_rotate_90 = augment_by_rotation(X_train, deg=90, sorted_x[:, 0][0: num_of_labels])\n",
    "    range_list = get_list_from_id_by_labels(num_of_labels)\n",
    "    X_train_rotate_45 = augment_by_rotation(X_train, 45, range_list)\n",
    "    y_train_rotate_45 = augment_labels_by_ids(y_train, range_list)\n",
    "#---------------------------------------------------------------------------------------\n",
    "# Aligning augmented train data and labels\n",
    "#---------------------------------------------------------------------------------------\n",
    "# print(y_train.shape)\n",
    "# print(y_train_rotate_90.shape)\n",
    "    X_train = np.append(X_train, X_train_rotate_45, axis=0)\n",
    "    y_train = np.append(y_train, y_train_rotate_45, axis=0)\n",
    "\n",
    "assert(len(X_train) == len(y_train))"
   ]
  },
  {
   "cell_type": "code",
   "execution_count": null,
   "metadata": {
    "collapsed": true
   },
   "outputs": [],
   "source": [
    "# Redraw distribution"
   ]
  },
  {
   "cell_type": "code",
   "execution_count": null,
   "metadata": {
    "collapsed": false,
    "scrolled": true
   },
   "outputs": [],
   "source": [
    "# How to make a 2d numpy array a 3D array\n",
    "# http://stackoverflow.com/questions/7372316/how-to-make-a-2d-numpy-array-a-3d-array\n",
    "# [:, :] -> [:, :, 1]"
   ]
  },
  {
   "cell_type": "code",
   "execution_count": null,
   "metadata": {
    "collapsed": false
   },
   "outputs": [],
   "source": [
    "# Try grayscaling first\n",
    "CHANNEL = 3\n",
    "NORMALIZE = 1\n",
    "\n",
    "def grayscale(img):\n",
    "    return cv2.cvtColor(img, cv2.COLOR_RGB2GRAY)\n",
    "\n",
    "# shuffle the training data\n",
    "from sklearn.utils import shuffle\n",
    "\n",
    "def img_to_grayscale(img_tensor):\n",
    "    img_tensor_gray = np.ndarray(shape=(len(img_tensor), 32, 32, 1), dtype=np.uint8)\n",
    "    for i in range(0, len(img_tensor)):\n",
    "#   http://stackoverflow.com/questions/7372316/how-to-make-a-2d-numpy-array-a-3d-array\n",
    "        img_tensor_gray[i, :, :, :] = grayscale(img_tensor[i, :, :, :].astype(np.uint8))[:, :, np.newaxis]\n",
    "    return img_tensor_gray\n",
    "\n",
    "def normalize(img_tensor):\n",
    "    img_normalized = np.ndarray(shape=(len(img_tensor), 32, 32, CHANNEL), dtype=np.float16)\n",
    "    for i in range(0, len(img_tensor)):\n",
    "        img_normalized[i, :, :, :] = (img_tensor[i, :, :, :] - 128.)/128\n",
    "#         How to do type conversion correctly?\n",
    "    img_normalized.astype('uint8')\n",
    "    return img_normalized\n",
    "\n",
    "#---------------------------------------------------------------------------------------\n",
    "# Preprocessing\n",
    "#---------------------------------------------------------------------------------------\n",
    "# Grayscaling\n",
    "\n",
    "if CHANNEL == 1:\n",
    "    X_train = img_to_grayscale(X_train)\n",
    "    X_valid = img_to_grayscale(X_valid)\n",
    "    X_test = img_to_grayscale(X_test)\n",
    "\n",
    "if NORMALIZE:\n",
    "    X_train = normalize(X_train)\n",
    "    X_valid = normalize(X_valid)\n",
    "    X_test = normalize(X_test)\n",
    "\n",
    "# print(X_train.shape)\n",
    "X_train, y_train = shuffle(X_train, y_train)"
   ]
  },
  {
   "cell_type": "markdown",
   "metadata": {},
   "source": [
    "### Model Architecture"
   ]
  },
  {
   "cell_type": "code",
   "execution_count": null,
   "metadata": {
    "collapsed": false
   },
   "outputs": [],
   "source": [
    "### Define your architecture here.\n",
    "### Feel free to use as many code cells as needed."
   ]
  },
  {
   "cell_type": "code",
   "execution_count": null,
   "metadata": {
    "collapsed": false
   },
   "outputs": [],
   "source": [
    "# Setup TensorFlow\n",
    "import tensorflow as tf\n",
    "\n",
    "# TODO: hyperparameters to be tuned\n",
    "EPOCHS = 10\n",
    "BATCH_SIZE = 128\n",
    "\n",
    "DROPOUT = 1\n",
    "KEEP_PROB = 0.5\n",
    "\n",
    "\n",
    "from tensorflow.contrib.layers import flatten\n",
    "# TODO: Estimate potential memory usage\n",
    "\n",
    "#---------------------------------------------------------------------------------------\n",
    "# Wrappers\n",
    "#---------------------------------------------------------------------------------------\n",
    "# TODO: automatic calculate next layer shape\n",
    "def Conv2d_layer(x, shape, strides, mean, stddev, padding):\n",
    "    conv_w = tf.Variable(tf.truncated_normal(shape, mean=mean, stddev=stddev))\n",
    "    dim_b = shape[3]\n",
    "    conv_b = tf.Variable(tf.zeros(dim_b))\n",
    "    return tf.nn.conv2d(x, conv_w, strides, padding=padding) + conv_b\n",
    "\n",
    "# TODO: makes below two functions configurable\n",
    "# Passing callback\n",
    "#     TODO: other activation function\n",
    "# Input: hidden layer\n",
    "def Rectifier(conv):\n",
    "    return tf.nn.relu(conv)\n",
    "\n",
    "#---------------------------------------------------------------------------------------\n",
    "# Dropout\n",
    "#---------------------------------------------------------------------------------------\n",
    "if DROPOUT:\n",
    "    keep_prob = tf.placeholder(tf.float32)\n",
    "    \n",
    "def dropout(conv):\n",
    "    return tf.nn.dropout(conv, keep_prob)\n",
    "# \n",
    "# Applying max pooling for now, try other pooling later\n",
    "def Pooling(conv, ksize, strides, padding):\n",
    "    return tf.nn.max_pool(conv, ksize=ksize, strides=strides, padding=padding)\n",
    "\n",
    "# 4d to 2d\n",
    "def Connect_layer(fc_in, shape, mean, stddev, padding):\n",
    "    fc_w = tf.Variable(tf.truncated_normal(shape=shape, mean = mean, stddev=stddev))\n",
    "    dim_b = shape[1]\n",
    "    fc_b = tf.Variable(tf.zeros(dim_b))\n",
    "#     y = xW + b\n",
    "    return tf.matmul(fc_in, fc_w) + fc_b\n",
    "\n",
    "#---------------------------------------------------------------------------------------\n",
    "# LeNet-5 Architecture\n",
    "#---------------------------------------------------------------------------------------\n",
    "# Starting with single channel grayscale image\n",
    "def LeNet(x):\n",
    "#     TODO: Change?\n",
    "    mu = 0\n",
    "    sigma = 0.1\n",
    "#     Layer 1: Convolutional. Input = 32x32xCHANNEL. Output = 28x28x6\n",
    "    conv1 = Conv2d_layer(x, shape=(5, 5, CHANNEL, 6), strides=[1, 1, 1, 1], mean=mu, stddev=sigma, padding='VALID')\n",
    "#     Activation\n",
    "    conv1 = Rectifier(conv1)\n",
    "    if DROPOUT:\n",
    "        conv1 = dropout(conv1)\n",
    "        \n",
    "#     Pooling. Input = 28x28x6. Output = 14x14x6.\n",
    "    conv1 = Pooling(conv1, ksize=[1, 2, 2, 1], strides=[1, 2, 2, 1], padding='VALID')\n",
    "    \n",
    "#     Layer 2: Convolutional. Output = 10x10x16\n",
    "    conv2 = Conv2d_layer(conv1, shape=(5, 5, 6, 16), strides=[1, 1, 1, 1], mean=mu, stddev=sigma, padding='VALID')\n",
    "#     Activation\n",
    "#     conv2 = tf.nn.relu(conv2)\n",
    "    conv2 = Rectifier(conv2)\n",
    "    if DROPOUT:\n",
    "        conv1 = dropout(conv1)\n",
    "    \n",
    "#     Pooling. Input = 14x14x16. Output = 5x5x16.\n",
    "    conv2 = Pooling(conv2, ksize=[1, 2, 2, 1], strides=[1, 2, 2, 1], padding='VALID')\n",
    "    \n",
    "#     Flatten. Input = 5x5x16. Output = 400\n",
    "    fc0 = flatten(conv2)\n",
    "#     2D\n",
    "\n",
    "#     Layer 3: Fully Connected. Input = 400. Output = 120\n",
    "    fc1 = Connect_layer(fc0, shape=(400, 120), mean=mu, stddev=sigma, padding='VALID')\n",
    "#     Activation\n",
    "    fc1 = Rectifier(fc1)\n",
    "    if DROPOUT:\n",
    "        conv1 = dropout(conv1)\n",
    "    \n",
    "#     Layer 4: Fully Connected. Input 120. Output = 84\n",
    "    fc2 = Connect_layer(fc1, shape=(120, 84), mean=mu, stddev=sigma, padding='VALID')\n",
    "#     Activation\n",
    "    fc2 = Rectifier(fc2)\n",
    "    if DROPOUT:\n",
    "        conv1 = dropout(conv1)\n",
    "\n",
    "#     Layer 5: Fully Connected. Input 84. Output = n_classes\n",
    "    fc3 = Connect_layer(fc2, shape=(84, n_classes), mean=mu, stddev=sigma, padding='VALID')\n",
    "    logits = fc3\n",
    "    \n",
    "    return logits, conv1, conv2"
   ]
  },
  {
   "cell_type": "markdown",
   "metadata": {},
   "source": [
    "### Train, Validate and Test the Model"
   ]
  },
  {
   "cell_type": "markdown",
   "metadata": {},
   "source": [
    "A validation set can be used to assess how well the model is performing. A low accuracy on the training and validation\n",
    "sets imply underfitting. A high accuracy on the training set but low accuracy on the validation set implies overfitting."
   ]
  },
  {
   "cell_type": "code",
   "execution_count": null,
   "metadata": {
    "collapsed": true
   },
   "outputs": [],
   "source": [
    "### Train your model here.\n",
    "### Calculate and report the accuracy on the training and validation set.\n",
    "### Once a final model architecture is selected, \n",
    "### the accuracy on the test set should be calculated and reported as well.\n",
    "### Feel free to use as many code cells as needed."
   ]
  },
  {
   "cell_type": "code",
   "execution_count": null,
   "metadata": {
    "collapsed": false
   },
   "outputs": [],
   "source": [
    "# Placeholder for a batch of input images\n",
    "x = tf.placeholder(tf.float32, (None, image_shape[0], image_shape[1], CHANNEL))\n",
    "y = tf.placeholder(tf.int32, (None))\n",
    "# TODO: Other labels?\n",
    "one_hot_y = tf.one_hot(y, n_classes)"
   ]
  },
  {
   "cell_type": "code",
   "execution_count": null,
   "metadata": {
    "collapsed": false
   },
   "outputs": [],
   "source": [
    "# Training Pipeline\n",
    "# Used to remove duplicated nodes when re-run the same nodes in Jupyter\n",
    "# tf.reset_default_graph()\n",
    "rate = 0.001\n",
    "\n",
    "figFeature = plt.figure()\n",
    "\n",
    "logits = LeNet(x)[0]\n",
    "conv1 = LeNet(x)[1]\n",
    "conv2 = LeNet(x)[2]\n",
    "\n",
    "cross_entropy = tf.nn.softmax_cross_entropy_with_logits(logits=logits, labels=one_hot_y)\n",
    "loss_operation = tf.reduce_mean(cross_entropy)\n",
    "# Similar to Statistical Gradient Descent (SGD)\n",
    "optimizer = tf.train.AdamOptimizer(learning_rate=rate)\n",
    "training_operation = optimizer.minimize(loss_operation)"
   ]
  },
  {
   "cell_type": "code",
   "execution_count": null,
   "metadata": {
    "collapsed": false
   },
   "outputs": [],
   "source": [
    "# Model Evaluation\n",
    "correct_prediction = tf.equal(tf.argmax(logits, 1), tf.argmax(one_hot_y, 1))\n",
    "accuracy_operation = tf.reduce_mean(tf.cast(correct_prediction, tf.float32))\n",
    "print(correct_prediction)\n",
    "print(accuracy_operation)\n",
    "\n",
    "saver = tf.train.Saver()\n",
    "\n",
    "def evaluate(X_data, y_data):\n",
    "    num_examples = len(X_data)\n",
    "    total_accuracy = 0\n",
    "    sess = tf.get_default_session()\n",
    "    for offset in range(0, num_examples, BATCH_SIZE):\n",
    "        end = offset + BATCH_SIZE\n",
    "        batch_x, batch_y = X_data[offset:end], y_data[offset:end]\n",
    "        if DROPOUT:\n",
    "            accuracy = sess.run(accuracy_operation, feed_dict={x: batch_x, y: batch_y, keep_prob: 1.0})\n",
    "        else:\n",
    "            accuracy = sess.run(accuracy_operation, feed_dict={x: batch_x, y: batch_y})\n",
    "        total_accuracy += (accuracy * len(batch_x))\n",
    "    return total_accuracy / num_examples"
   ]
  },
  {
   "cell_type": "code",
   "execution_count": null,
   "metadata": {
    "collapsed": false
   },
   "outputs": [],
   "source": [
    "# Train the model\n",
    "with tf.Session() as sess:\n",
    "    sess.run(tf.global_variables_initializer())\n",
    "    num_examples = len(X_train)\n",
    "    print(\"Training...\")\n",
    "    print()\n",
    "    for i in range(EPOCHS):\n",
    "        X_train, y_train = shuffle(X_train, y_train)\n",
    "        for offset in range(0, num_examples, BATCH_SIZE):\n",
    "            end = offset + BATCH_SIZE\n",
    "            batch_x, batch_y = X_train[offset:end], y_train[offset:end]\n",
    "            if DROPOUT:\n",
    "                batch_accuracy = sess.run(training_operation, feed_dict={x:batch_x, y:batch_y, keep_prob: KEEP_PROB})\n",
    "            else:\n",
    "                batch_accuracy = sess.run(training_operation, feed_dict={x:batch_x, y:batch_y})\n",
    "        validation_accuracy = evaluate(X_valid, y_valid)\n",
    "        print(\"EPOCH {}...\".format(i+1))\n",
    "        print(\"Validation Accuracy = {:.3f}\".format(validation_accuracy))\n",
    "        \n",
    "    saver.save(sess, './lenet5_traffic_sign')\n",
    "    print(\"Model saved\")"
   ]
  },
  {
   "cell_type": "code",
   "execution_count": null,
   "metadata": {
    "collapsed": false
   },
   "outputs": [],
   "source": [
    "# Training accuracy\n",
    "with tf.Session() as sess:\n",
    "    saver.restore(sess, tf.train.latest_checkpoint('.'))\n",
    "    \n",
    "    training_accuracy = evaluate(X_train, y_train)\n",
    "    print(\"Training Accuracy = {:.3f}\".format(training_accuracy))"
   ]
  },
  {
   "cell_type": "code",
   "execution_count": null,
   "metadata": {
    "collapsed": false
   },
   "outputs": [],
   "source": [
    "# # Evaluate The model\n",
    "with tf.Session() as sess:\n",
    "    saver.restore(sess, tf.train.latest_checkpoint('.'))\n",
    "    \n",
    "    test_accuracy = evaluate(X_test, y_test)\n",
    "    print(\"Test Accuracy = {:.3f}\".format(test_accuracy))"
   ]
  },
  {
   "cell_type": "markdown",
   "metadata": {},
   "source": [
    "---\n",
    "\n",
    "## Step 3: Test a Model on New Images\n",
    "\n",
    "To give yourself more insight into how your model is working, download at least five pictures of German traffic signs from the web and use your model to predict the traffic sign type.\n",
    "\n",
    "You may find `signnames.csv` useful as it contains mappings from the class id (integer) to the actual sign name."
   ]
  },
  {
   "cell_type": "markdown",
   "metadata": {},
   "source": [
    "### Load and Output the Images"
   ]
  },
  {
   "cell_type": "code",
   "execution_count": null,
   "metadata": {
    "collapsed": false
   },
   "outputs": [],
   "source": [
    "### Load the images and plot them here.\n",
    "### Feel free to use as many code cells as needed.\n",
    "# import cv2\n",
    "# import matplotlib.pyplot as plt\n",
    "# Visualizations will be shown in the notebook.\n",
    "# %matplotlib inline\n",
    "# import numpy as np\n",
    "\n",
    "import matplotlib.image as mpimg\n",
    "\n",
    "filenames = ['50.jpg',\n",
    "             'curve.jpg',\n",
    "             'keep_right.jpg',\n",
    "             'stop.jpg',\n",
    "             'yield.jpg']\n",
    "base_path = 'pack/'\n",
    "#---------------------------------------------------------------------------------------\n",
    "# Preprocessing\n",
    "#---------------------------------------------------------------------------------------\n",
    "def preprocessor(f_names, base_path):\n",
    "    new_files = []\n",
    "    \n",
    "    for i in range(len(f_names)):\n",
    "        new_files.append(base_path + f_names[i])\n",
    "\n",
    "    # is color\n",
    "    img_list = []\n",
    "    for i in range(len(new_files)):\n",
    "        img_list.append(mpimg.imread(new_files[i], 1))\n",
    "\n",
    "    img_resized_list = []\n",
    "    for i in range(len(new_files)):\n",
    "        img_resized_list.append(cv2.resize(img_list[i], (32, 32), interpolation=cv2.INTER_CUBIC))  \n",
    "        \n",
    "    return np.asarray(img_resized_list), new_files\n",
    "\n",
    "#---------------------------------------------------------------------------------------\n",
    "# Setting up input test data captured from web\n",
    "#---------------------------------------------------------------------------------------\n",
    "\n",
    "X_test_online, new_files = preprocessor(filenames, base_path)\n",
    "y_test_online = [3, 19, 38, 14, 13]\n",
    "y_test_online = np.asarray(y_test_online, dtype=np.uint8)\n",
    "#---------------------------------------------------------------------------------------\n",
    "# Ploting test images\n",
    "#---------------------------------------------------------------------------------------\n",
    "\n",
    "# print(X_test_online)\n",
    "plt.figure()\n",
    "fig5, axs1 = plt.subplots(1,5, figsize=(23, 15), facecolor='w', edgecolor='k')\n",
    "fig5.subplots_adjust(hspace = .5, wspace=.001)\n",
    "axs1 = axs1.ravel()\n",
    "\n",
    "for i in range(len(X_test_online)):\n",
    "#     axs1[i].imshow(np.asarray(X_test_online[i], dtype=np.uint8))\n",
    "#     axs1[i].imshow(X_test_online[i])\n",
    "    axs1[i].imshow(mpimg.imread(new_files[i], 1))\n",
    "\n",
    "#---------------------------------------------------------------------------------------\n",
    "# Preprocessing\n",
    "#---------------------------------------------------------------------------------------\n",
    "if CHANNEL == 1:\n",
    "    X_test_online = img_to_grayscale(X_test_online)\n",
    "if NORMALIZE:\n",
    "    X_test_online = normalize(X_test_online)"
   ]
  },
  {
   "cell_type": "markdown",
   "metadata": {},
   "source": [
    "### Predict the Sign Type for Each Image"
   ]
  },
  {
   "cell_type": "code",
   "execution_count": null,
   "metadata": {
    "collapsed": false
   },
   "outputs": [],
   "source": [
    "### Run the predictions here and use the model to output the prediction for each image.\n",
    "### Make sure to pre-process the images with the same pre-processing pipeline used earlier.\n",
    "### Feel free to use as many code cells as needed\n",
    "\n",
    "def evaluate_with_batch(X_data, y_data, batch_size):\n",
    "    num_examples = len(X_data)\n",
    "    total_accuracy = 0\n",
    "    y_pred = []\n",
    "    sess = tf.get_default_session()\n",
    "    for offset in range(0, num_examples, BATCH_SIZE):\n",
    "        end = offset + batch_size\n",
    "        batch_x, batch_y = X_data[offset:end], y_data[offset:end]\n",
    "        print(batch_x.shape)\n",
    "        print(batch_y[2])\n",
    "        if DROPOUT:\n",
    "            accuracy = sess.run(accuracy_operation, feed_dict={x: batch_x, y: batch_y, keep_prob: 1.0})\n",
    "        else:\n",
    "            accuracy = sess.run(accuracy_operation, feed_dict={x: batch_x, y: batch_y})\n",
    "            total_accuracy += accuracy\n",
    "    return accuracy\n",
    "\n",
    "\n",
    "with tf.Session() as sess:\n",
    "    saver.restore(sess, tf.train.latest_checkpoint('.'))\n",
    "    test_accuracy = evaluate_with_batch(X_test_online, y_test_online, batch_size = 5)\n",
    "    print(\"Test Accuracy = {:.3f}\".format(test_accuracy))\n",
    "    \n",
    "    \n",
    "# with boolean output\n",
    "def evaluate_with_batch(X_data, y_data, batch_size):\n",
    "    num_examples = len(X_data)\n",
    "    total_accuracy = 0\n",
    "    y_pred = []\n",
    "    sess = tf.get_default_session()\n",
    "    for offset in range(0, num_examples, BATCH_SIZE):\n",
    "        end = offset + batch_size\n",
    "        batch_x, batch_y = X_data[offset:end], y_data[offset:end]\n",
    "        if DROPOUT:\n",
    "            res = sess.run(correct_prediction, feed_dict={x: batch_x, y: batch_y, keep_prob: 1.0})\n",
    "        else:\n",
    "            res = sess.run(correct_prediction, feed_dict={x: batch_x, y: batch_y})\n",
    "#         print(\"Prediction result\", res)\n",
    "        y_pred.append(res)\n",
    "    return y_pred\n",
    "\n",
    "with tf.Session() as sess:\n",
    "    saver.restore(sess, tf.train.latest_checkpoint('.'))\n",
    "    output = evaluate_with_batch(X_test_online, y_test_online, batch_size = 5)\n",
    "    print(output)"
   ]
  },
  {
   "cell_type": "markdown",
   "metadata": {},
   "source": [
    "### Analyze Performance"
   ]
  },
  {
   "cell_type": "code",
   "execution_count": null,
   "metadata": {
    "collapsed": false
   },
   "outputs": [],
   "source": [
    "### Calculate the accuracy for these 5 new images. \n",
    "### For example, if the model predicted 1 out of 5 signs correctly, it's 20% accurate on these new images.\n",
    "# Test accuracy 40 percent\n",
    "# Correctly predict 3th and 4th input image\n",
    "print(\"Test Accuracy = {:.3f}\".format(test_accuracy))"
   ]
  },
  {
   "cell_type": "markdown",
   "metadata": {},
   "source": [
    "### Output Top 5 Softmax Probabilities For Each Image Found on the Web"
   ]
  },
  {
   "cell_type": "raw",
   "metadata": {},
   "source": []
  },
  {
   "cell_type": "code",
   "execution_count": null,
   "metadata": {
    "collapsed": false
   },
   "outputs": [],
   "source": [
    "#Using top five\n",
    "saver = tf.train.Saver()\n",
    "\n",
    "pred = tf.argmax(logits, 1)\n",
    "\n",
    "pred_softmax = tf.nn.softmax(logits)\n",
    "pred_top_five, pred_top_five_indices = tf.nn.top_k(pred_softmax, k=5, sorted=True)\n",
    "\n",
    "with tf.Session() as sess:\n",
    "    saver.restore(sess, tf.train.latest_checkpoint('.'))\n",
    "    print(\"Restore recent model\")\n",
    "    res_pred, res_top_five, res_top_five_indices = sess.run([pred, pred_top_five, pred_top_five_indices], feed_dict={x: X_test_online, y: y_test_online, keep_prob: 1.0})\n",
    "# print(res_pred)\n",
    "# print(y_test_online)\n",
    "# print(res_top_five)\n",
    "# print(res_top_five_indices)\n"
   ]
  },
  {
   "cell_type": "code",
   "execution_count": null,
   "metadata": {
    "collapsed": false
   },
   "outputs": [],
   "source": []
  },
  {
   "cell_type": "code",
   "execution_count": null,
   "metadata": {
    "collapsed": false
   },
   "outputs": [],
   "source": [
    "# print\n",
    "# Display predict result\n",
    "print(\"Actual vs Prediction\")\n",
    "for i in range(len(y_test_online)):\n",
    "    fig = plt.figure()\n",
    "    fig.add_subplot(121).set_title(filenames[i])\n",
    "    plt.imshow(mpimg.imread(new_files[i], 1))\n",
    "    \n",
    "#     image from training set\n",
    "    training_label_id = res_pred[i]\n",
    "    idx = id_by_labels[training_label_id][0]\n",
    "#     idx = id_by_labels[training_label_id][10]\n",
    "    fig.add_subplot(122).set_title(df_signnames.loc[y_train_sorted[idx]].SignName)\n",
    "    plt.imshow(X_train_sorted[idx])"
   ]
  },
  {
   "cell_type": "code",
   "execution_count": null,
   "metadata": {
    "collapsed": false
   },
   "outputs": [],
   "source": [
    "# Predictions\n",
    "# print(res_pred)\n",
    "# print(y_test_online)\n",
    "print(res_top_five)\n",
    "print(res_top_five_indices)\n",
    "\n",
    "for row in range(len(res_top_five_indices)):\n",
    "    print(\":\", row)\n",
    "    for i in range(len(res_top_five_indices[row])):\n",
    "        label_index = res_top_five_indices[row][i]\n",
    "        idx = id_by_labels[label_index][0]\n",
    "        print(res_top_five[row][i])\n",
    "        print(df_signnames.loc[y_train_sorted[idx]].SignName)\n"
   ]
  },
  {
   "cell_type": "markdown",
   "metadata": {},
   "source": [
    "For each of the new images, print out the model's softmax probabilities to show the **certainty** of the model's predictions (limit the output to the top 5 probabilities for each image). [`tf.nn.top_k`](https://www.tensorflow.org/versions/r0.12/api_docs/python/nn.html#top_k) could prove helpful here. \n",
    "\n",
    "The example below demonstrates how tf.nn.top_k can be used to find the top k predictions for each image.\n",
    "\n",
    "`tf.nn.top_k` will return the values and indices (class ids) of the top k predictions. So if k=3, for each sign, it'll return the 3 largest probabilities (out of a possible 43) and the correspoding class ids.\n",
    "\n",
    "Take this numpy array as an example. The values in the array represent predictions. The array contains softmax probabilities for five candidate images with six possible classes. `tk.nn.top_k` is used to choose the three classes with the highest probability:\n",
    "\n",
    "```\n",
    "# (5, 6) array\n",
    "a = np.array([[ 0.24879643,  0.07032244,  0.12641572,  0.34763842,  0.07893497,\n",
    "         0.12789202],\n",
    "       [ 0.28086119,  0.27569815,  0.08594638,  0.0178669 ,  0.18063401,\n",
    "         0.15899337],\n",
    "       [ 0.26076848,  0.23664738,  0.08020603,  0.07001922,  0.1134371 ,\n",
    "         0.23892179],\n",
    "       [ 0.11943333,  0.29198961,  0.02605103,  0.26234032,  0.1351348 ,\n",
    "         0.16505091],\n",
    "       [ 0.09561176,  0.34396535,  0.0643941 ,  0.16240774,  0.24206137,\n",
    "         0.09155967]])\n",
    "```\n",
    "\n",
    "Running it through `sess.run(tf.nn.top_k(tf.constant(a), k=3))` produces:\n",
    "\n",
    "```\n",
    "TopKV2(values=array([[ 0.34763842,  0.24879643,  0.12789202],\n",
    "       [ 0.28086119,  0.27569815,  0.18063401],\n",
    "       [ 0.26076848,  0.23892179,  0.23664738],\n",
    "       [ 0.29198961,  0.26234032,  0.16505091],\n",
    "       [ 0.34396535,  0.24206137,  0.16240774]]), indices=array([[3, 0, 5],\n",
    "       [0, 1, 4],\n",
    "       [0, 5, 1],\n",
    "       [1, 3, 5],\n",
    "       [1, 4, 3]], dtype=int32))\n",
    "```\n",
    "\n",
    "Looking just at the first row we get `[ 0.34763842,  0.24879643,  0.12789202]`, you can confirm these are the 3 largest probabilities in `a`. You'll also notice `[3, 0, 5]` are the corresponding indices."
   ]
  },
  {
   "cell_type": "code",
   "execution_count": null,
   "metadata": {
    "collapsed": true
   },
   "outputs": [],
   "source": []
  },
  {
   "cell_type": "code",
   "execution_count": null,
   "metadata": {
    "collapsed": true
   },
   "outputs": [],
   "source": [
    "### Print out the top five softmax probabilities for the predictions on the German traffic sign images found on the web. \n",
    "### Feel free to use as many code cells as needed."
   ]
  },
  {
   "cell_type": "markdown",
   "metadata": {},
   "source": [
    "---\n",
    "\n",
    "## Step 4: Visualize the Neural Network's State with Test Images\n",
    "\n",
    " This Section is not required to complete but acts as an additional excersise for understaning the output of a neural network's weights. While neural networks can be a great learning device they are often referred to as a black box. We can understand what the weights of a neural network look like better by plotting their feature maps. After successfully training your neural network you can see what it's feature maps look like by plotting the output of the network's weight layers in response to a test stimuli image. From these plotted feature maps, it's possible to see what characteristics of an image the network finds interesting. For a sign, maybe the inner network feature maps react with high activation to the sign's boundary outline or to the contrast in the sign's painted symbol.\n",
    "\n",
    " Provided for you below is the function code that allows you to get the visualization output of any tensorflow weight layer you want. The inputs to the function should be a stimuli image, one used during training or a new one you provided, and then the tensorflow variable name that represents the layer's state during the training process, for instance if you wanted to see what the [LeNet lab's](https://classroom.udacity.com/nanodegrees/nd013/parts/fbf77062-5703-404e-b60c-95b78b2f3f9e/modules/6df7ae49-c61c-4bb2-a23e-6527e69209ec/lessons/601ae704-1035-4287-8b11-e2c2716217ad/concepts/d4aca031-508f-4e0b-b493-e7b706120f81) feature maps looked like for it's second convolutional layer you could enter conv2 as the tf_activation variable.\n",
    "\n",
    "For an example of what feature map outputs look like, check out NVIDIA's results in their paper [End-to-End Deep Learning for Self-Driving Cars](https://devblogs.nvidia.com/parallelforall/deep-learning-self-driving-cars/) in the section Visualization of internal CNN State. NVIDIA was able to show that their network's inner weights had high activations to road boundary lines by comparing feature maps from an image with a clear path to one without. Try experimenting with a similar test to show that your trained network's weights are looking for interesting features, whether it's looking at differences in feature maps from images with or without a sign, or even what feature maps look like in a trained network vs a completely untrained one on the same sign image.\n",
    "\n",
    "<figure>\n",
    " <img src=\"visualize_cnn.png\" width=\"380\" alt=\"Combined Image\" />\n",
    " <figcaption>\n",
    " <p></p> \n",
    " <p style=\"text-align: center;\"> Your output should look something like this (above)</p> \n",
    " </figcaption>\n",
    "</figure>\n",
    " <p></p> \n"
   ]
  },
  {
   "cell_type": "code",
   "execution_count": null,
   "metadata": {
    "collapsed": true
   },
   "outputs": [],
   "source": [
    "# ### Visualize your network's feature maps here.\n",
    "# ### Feel free to use as many code cells as needed.\n",
    "\n",
    "# # image_input: the test image being fed into the network to produce the feature maps\n",
    "# # tf_activation: should be a tf variable name used during your training procedure that represents the calculated state of a specific weight layer\n",
    "# # activation_min/max: can be used to view the activation contrast in more detail, by default matplot sets min and max to the actual min and max values of the output\n",
    "# # plt_num: used to plot out multiple different weight feature map sets on the same block, just extend the plt number for each new feature map entry\n",
    "\n",
    "# def outputFeatureMap(image_input, tf_activation, activation_min=-1, activation_max=-1 ,plt_num=1):\n",
    "#     # Here make sure to preprocess your image_input in a way your network expects\n",
    "#     # with size, normalization, ect if needed\n",
    "#     # image_input =\n",
    "#     # Note: x should be the same name as your network's tensorflow data placeholder variable\n",
    "#     # If you get an error tf_activation is not defined it maybe having trouble accessing the variable from inside a function\n",
    "# #     activation = tf_activation.eval(session=sess,feed_dict={x : image_input})\n",
    "#     activation = tf_activation.eval(feed_dict={x : image_input, keep_prob: KEEP_PROB})\n",
    "#     featuremaps = activation.shape[3]\n",
    "#     print(featuremaps.shape)\n",
    "#     plt.figure(plt_num, figsize=(15,15))\n",
    "#     for featuremap in range(featuremaps):\n",
    "#         plt.subplot(6,8, featuremap+1) # sets the number of feature maps to show on each row and column\n",
    "#         plt.title('FeatureMap ' + str(featuremap)) # displays the feature map number\n",
    "#         if activation_min != -1 & activation_max != -1:\n",
    "#             plt.imshow(activation[0,:,:, featuremap], interpolation=\"nearest\", vmin =activation_min, vmax=activation_max, cmap=\"gray\")\n",
    "#         elif activation_max != -1:\n",
    "#             plt.imshow(activation[0,:,:, featuremap], interpolation=\"nearest\", vmax=activation_max, cmap=\"gray\")\n",
    "#         elif activation_min !=-1:\n",
    "#             plt.imshow(activation[0,:,:, featuremap], interpolation=\"nearest\", vmin=activation_min, cmap=\"gray\")\n",
    "#         else:\n",
    "#             plt.imshow(activation[0,:,:, featuremap], interpolation=\"nearest\", cmap=\"gray\")"
   ]
  },
  {
   "cell_type": "code",
   "execution_count": null,
   "metadata": {
    "collapsed": true
   },
   "outputs": [],
   "source": [
    "def outputFeatureMap(image_input, tf_activation):\n",
    "    activation = tf_activation.eval(feed_dict={x:image_input, keep_prob: KEEP_PROB})\n",
    "    featuremaps = activation.shape[3]\n",
    "    # print(featuremaps)\n",
    "    plt_num = 1\n",
    "    activation_min = -1\n",
    "    activation_max = 1\n",
    "    plt.figure(plt_num, figsize=(15,15))\n",
    "    for featuremap in range(featuremaps):\n",
    "        plt.subplot(6,8, featuremap+1) # sets the number of feature maps to show on each row and column\n",
    "    #     plt.subplots_adjust(hspace = 1.9)\n",
    "    #     plt.title('FeatureMap ' + str(featuremap)) # displays the feature map number\n",
    "        plt.title('FMap' + str(featuremap))\n",
    "        plt.imshow(activation[0,:,:, featuremap], interpolation=\"nearest\", vmin =activation_min, vmax=activation_max, cmap=\"gray\")"
   ]
  },
  {
   "cell_type": "code",
   "execution_count": null,
   "metadata": {
    "collapsed": false
   },
   "outputs": [],
   "source": [
    "# X_test_online = preprocessor(filenames, base_path)[0]\n",
    "    \n",
    "# print(X_test_online.shape)\n",
    "# if CHANNEL == 1:\n",
    "#     X_test_online = img_to_grayscale(X_test_online)\n",
    "    \n",
    "# if NORMALIZE:\n",
    "#     X_test_online = normalize(X_test_online)\n",
    "\n",
    "# with tf.Session() as sess:\n",
    "#     saver.restore(sess, tf.train.latest_checkpoint('.'))\n",
    "# #     outputFeatureMap(X_test_online, x)\n",
    "#     outputFeatureMap(X_train, x)\n",
    "\n",
    "plt.figure()\n",
    "with tf.Session() as sess:\n",
    "    num_examples = len(X_train)\n",
    "    print(\"Training...\")\n",
    "    print()\n",
    "    for i in range(3):\n",
    "        X_train, y_train = shuffle(X_train, y_train)\n",
    "        for offset in range(0, num_examples, BATCH_SIZE):\n",
    "            end = offset + BATCH_SIZE\n",
    "            batch_x, batch_y = X_train[offset:end], y_train[offset:end]\n",
    "            if DROPOUT:\n",
    "                batch_accuracy = sess.run(training_operation, feed_dict={x:batch_x, y:batch_y, keep_prob: KEEP_PROB})\n",
    "            else:\n",
    "                batch_accuracy = sess.run(training_operation, feed_dict={x:batch_x, y:batch_y})\n",
    "#             activation = conv2.eval(feed_dict={x:batch_x, y:batch_y, keep_prob: KEEP_PROB})\n",
    "            outputFeatureMap(X_train, conv1)\n",
    "        validation_accuracy = evaluate(X_valid, y_valid)\n",
    "        print(\"EPOCH {}...\".format(i+1))\n",
    "        print(\"Validation Accuracy = {:.3f}\".format(validation_accuracy))\n",
    "        \n",
    "    saver.save(sess, './lenet5_traffic_sign')\n",
    "    print(\"Model saved\")"
   ]
  },
  {
   "cell_type": "markdown",
   "metadata": {},
   "source": [
    "### Question 9\n",
    "\n",
    "Discuss how you used the visual output of your trained network's feature maps to show that it had learned to look for interesting characteristics in traffic sign images\n"
   ]
  },
  {
   "cell_type": "markdown",
   "metadata": {},
   "source": [
    "**Answer:**"
   ]
  },
  {
   "cell_type": "markdown",
   "metadata": {},
   "source": [
    "> **Note**: Once you have completed all of the code implementations and successfully answered each question above, you may finalize your work by exporting the iPython Notebook as an HTML document. You can do this by using the menu above and navigating to  \\n\",\n",
    "    \"**File -> Download as -> HTML (.html)**. Include the finished document along with this notebook as your submission."
   ]
  },
  {
   "cell_type": "markdown",
   "metadata": {},
   "source": [
    "### Project Writeup\n",
    "\n",
    "Once you have completed the code implementation, document your results in a project writeup using this [template](https://github.com/udacity/CarND-Traffic-Sign-Classifier-Project/blob/master/writeup_template.md) as a guide. The writeup can be in a markdown or pdf file. "
   ]
  }
 ],
 "metadata": {
  "anaconda-cloud": {},
  "kernelspec": {
   "display_name": "Python [default]",
   "language": "python",
   "name": "python3"
  },
  "language_info": {
   "codemirror_mode": {
    "name": "ipython",
    "version": 3
   },
   "file_extension": ".py",
   "mimetype": "text/x-python",
   "name": "python",
   "nbconvert_exporter": "python",
   "pygments_lexer": "ipython3",
   "version": "3.5.2"
  }
 },
 "nbformat": 4,
 "nbformat_minor": 1
}
